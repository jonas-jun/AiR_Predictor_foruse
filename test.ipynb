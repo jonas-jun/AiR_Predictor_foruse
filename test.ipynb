{
 "cells": [
  {
   "cell_type": "markdown",
   "metadata": {},
   "source": [
    "**RandomForest Classifier 직접 배포해보기**\n",
    "\n",
    "1. 데이터 입력 받기\n",
    "2. 데이터 전처리\n",
    "    - 이전 데이터 분포도 로드\n",
    "    - 결측값이 있다면 평균치로 채워주기\n",
    "    - NO2, CO, SO2, pressure를 standardization (이전 10년간의 분포를 참고해서)\n",
    "    - wind_direction, overall, pm25_cat encoding\n",
    "    - X 벡터 구성\n",
    "3. 모델 Load\n",
    "4. Classify\n",
    "5. 결과 출력"
   ]
  },
  {
   "cell_type": "markdown",
   "metadata": {},
   "source": [
    "## 데이터 입력 받기"
   ]
  },
  {
   "cell_type": "code",
   "execution_count": null,
   "metadata": {},
   "outputs": [],
   "source": []
  },
  {
   "cell_type": "code",
   "execution_count": 2,
   "metadata": {},
   "outputs": [
    {
     "ename": "FileNotFoundError",
     "evalue": "[Errno 2] File testset.csv does not exist: 'testset.csv'",
     "output_type": "error",
     "traceback": [
      "\u001b[0;31m---------------------------------------------------------------------------\u001b[0m",
      "\u001b[0;31mFileNotFoundError\u001b[0m                         Traceback (most recent call last)",
      "\u001b[0;32m<ipython-input-2-35d1a2ba8bff>\u001b[0m in \u001b[0;36m<module>\u001b[0;34m\u001b[0m\n\u001b[1;32m      1\u001b[0m \u001b[0;32mimport\u001b[0m \u001b[0mpandas\u001b[0m \u001b[0;32mas\u001b[0m \u001b[0mpd\u001b[0m\u001b[0;34m\u001b[0m\u001b[0;34m\u001b[0m\u001b[0m\n\u001b[1;32m      2\u001b[0m \u001b[0;34m\u001b[0m\u001b[0m\n\u001b[0;32m----> 3\u001b[0;31m \u001b[0mtest\u001b[0m \u001b[0;34m=\u001b[0m \u001b[0mpd\u001b[0m\u001b[0;34m.\u001b[0m\u001b[0mread_csv\u001b[0m\u001b[0;34m(\u001b[0m\u001b[0;34m'testset.csv'\u001b[0m\u001b[0;34m)\u001b[0m\u001b[0;34m\u001b[0m\u001b[0;34m\u001b[0m\u001b[0m\n\u001b[0m\u001b[1;32m      4\u001b[0m use = ['no2', 'co', 'so2', 'pm25_con', 'temp', 'wind_direction', 'cloud', 'precipitation',\n\u001b[1;32m      5\u001b[0m        'pressure', 'wind_speed', 'gust', 'overall']\n",
      "\u001b[0;32m~/opt/anaconda3/envs/dl/lib/python3.8/site-packages/pandas/io/parsers.py\u001b[0m in \u001b[0;36mparser_f\u001b[0;34m(filepath_or_buffer, sep, delimiter, header, names, index_col, usecols, squeeze, prefix, mangle_dupe_cols, dtype, engine, converters, true_values, false_values, skipinitialspace, skiprows, skipfooter, nrows, na_values, keep_default_na, na_filter, verbose, skip_blank_lines, parse_dates, infer_datetime_format, keep_date_col, date_parser, dayfirst, cache_dates, iterator, chunksize, compression, thousands, decimal, lineterminator, quotechar, quoting, doublequote, escapechar, comment, encoding, dialect, error_bad_lines, warn_bad_lines, delim_whitespace, low_memory, memory_map, float_precision)\u001b[0m\n\u001b[1;32m    674\u001b[0m         )\n\u001b[1;32m    675\u001b[0m \u001b[0;34m\u001b[0m\u001b[0m\n\u001b[0;32m--> 676\u001b[0;31m         \u001b[0;32mreturn\u001b[0m \u001b[0m_read\u001b[0m\u001b[0;34m(\u001b[0m\u001b[0mfilepath_or_buffer\u001b[0m\u001b[0;34m,\u001b[0m \u001b[0mkwds\u001b[0m\u001b[0;34m)\u001b[0m\u001b[0;34m\u001b[0m\u001b[0;34m\u001b[0m\u001b[0m\n\u001b[0m\u001b[1;32m    677\u001b[0m \u001b[0;34m\u001b[0m\u001b[0m\n\u001b[1;32m    678\u001b[0m     \u001b[0mparser_f\u001b[0m\u001b[0;34m.\u001b[0m\u001b[0m__name__\u001b[0m \u001b[0;34m=\u001b[0m \u001b[0mname\u001b[0m\u001b[0;34m\u001b[0m\u001b[0;34m\u001b[0m\u001b[0m\n",
      "\u001b[0;32m~/opt/anaconda3/envs/dl/lib/python3.8/site-packages/pandas/io/parsers.py\u001b[0m in \u001b[0;36m_read\u001b[0;34m(filepath_or_buffer, kwds)\u001b[0m\n\u001b[1;32m    446\u001b[0m \u001b[0;34m\u001b[0m\u001b[0m\n\u001b[1;32m    447\u001b[0m     \u001b[0;31m# Create the parser.\u001b[0m\u001b[0;34m\u001b[0m\u001b[0;34m\u001b[0m\u001b[0;34m\u001b[0m\u001b[0m\n\u001b[0;32m--> 448\u001b[0;31m     \u001b[0mparser\u001b[0m \u001b[0;34m=\u001b[0m \u001b[0mTextFileReader\u001b[0m\u001b[0;34m(\u001b[0m\u001b[0mfp_or_buf\u001b[0m\u001b[0;34m,\u001b[0m \u001b[0;34m**\u001b[0m\u001b[0mkwds\u001b[0m\u001b[0;34m)\u001b[0m\u001b[0;34m\u001b[0m\u001b[0;34m\u001b[0m\u001b[0m\n\u001b[0m\u001b[1;32m    449\u001b[0m \u001b[0;34m\u001b[0m\u001b[0m\n\u001b[1;32m    450\u001b[0m     \u001b[0;32mif\u001b[0m \u001b[0mchunksize\u001b[0m \u001b[0;32mor\u001b[0m \u001b[0miterator\u001b[0m\u001b[0;34m:\u001b[0m\u001b[0;34m\u001b[0m\u001b[0;34m\u001b[0m\u001b[0m\n",
      "\u001b[0;32m~/opt/anaconda3/envs/dl/lib/python3.8/site-packages/pandas/io/parsers.py\u001b[0m in \u001b[0;36m__init__\u001b[0;34m(self, f, engine, **kwds)\u001b[0m\n\u001b[1;32m    878\u001b[0m             \u001b[0mself\u001b[0m\u001b[0;34m.\u001b[0m\u001b[0moptions\u001b[0m\u001b[0;34m[\u001b[0m\u001b[0;34m\"has_index_names\"\u001b[0m\u001b[0;34m]\u001b[0m \u001b[0;34m=\u001b[0m \u001b[0mkwds\u001b[0m\u001b[0;34m[\u001b[0m\u001b[0;34m\"has_index_names\"\u001b[0m\u001b[0;34m]\u001b[0m\u001b[0;34m\u001b[0m\u001b[0;34m\u001b[0m\u001b[0m\n\u001b[1;32m    879\u001b[0m \u001b[0;34m\u001b[0m\u001b[0m\n\u001b[0;32m--> 880\u001b[0;31m         \u001b[0mself\u001b[0m\u001b[0;34m.\u001b[0m\u001b[0m_make_engine\u001b[0m\u001b[0;34m(\u001b[0m\u001b[0mself\u001b[0m\u001b[0;34m.\u001b[0m\u001b[0mengine\u001b[0m\u001b[0;34m)\u001b[0m\u001b[0;34m\u001b[0m\u001b[0;34m\u001b[0m\u001b[0m\n\u001b[0m\u001b[1;32m    881\u001b[0m \u001b[0;34m\u001b[0m\u001b[0m\n\u001b[1;32m    882\u001b[0m     \u001b[0;32mdef\u001b[0m \u001b[0mclose\u001b[0m\u001b[0;34m(\u001b[0m\u001b[0mself\u001b[0m\u001b[0;34m)\u001b[0m\u001b[0;34m:\u001b[0m\u001b[0;34m\u001b[0m\u001b[0;34m\u001b[0m\u001b[0m\n",
      "\u001b[0;32m~/opt/anaconda3/envs/dl/lib/python3.8/site-packages/pandas/io/parsers.py\u001b[0m in \u001b[0;36m_make_engine\u001b[0;34m(self, engine)\u001b[0m\n\u001b[1;32m   1112\u001b[0m     \u001b[0;32mdef\u001b[0m \u001b[0m_make_engine\u001b[0m\u001b[0;34m(\u001b[0m\u001b[0mself\u001b[0m\u001b[0;34m,\u001b[0m \u001b[0mengine\u001b[0m\u001b[0;34m=\u001b[0m\u001b[0;34m\"c\"\u001b[0m\u001b[0;34m)\u001b[0m\u001b[0;34m:\u001b[0m\u001b[0;34m\u001b[0m\u001b[0;34m\u001b[0m\u001b[0m\n\u001b[1;32m   1113\u001b[0m         \u001b[0;32mif\u001b[0m \u001b[0mengine\u001b[0m \u001b[0;34m==\u001b[0m \u001b[0;34m\"c\"\u001b[0m\u001b[0;34m:\u001b[0m\u001b[0;34m\u001b[0m\u001b[0;34m\u001b[0m\u001b[0m\n\u001b[0;32m-> 1114\u001b[0;31m             \u001b[0mself\u001b[0m\u001b[0;34m.\u001b[0m\u001b[0m_engine\u001b[0m \u001b[0;34m=\u001b[0m \u001b[0mCParserWrapper\u001b[0m\u001b[0;34m(\u001b[0m\u001b[0mself\u001b[0m\u001b[0;34m.\u001b[0m\u001b[0mf\u001b[0m\u001b[0;34m,\u001b[0m \u001b[0;34m**\u001b[0m\u001b[0mself\u001b[0m\u001b[0;34m.\u001b[0m\u001b[0moptions\u001b[0m\u001b[0;34m)\u001b[0m\u001b[0;34m\u001b[0m\u001b[0;34m\u001b[0m\u001b[0m\n\u001b[0m\u001b[1;32m   1115\u001b[0m         \u001b[0;32melse\u001b[0m\u001b[0;34m:\u001b[0m\u001b[0;34m\u001b[0m\u001b[0;34m\u001b[0m\u001b[0m\n\u001b[1;32m   1116\u001b[0m             \u001b[0;32mif\u001b[0m \u001b[0mengine\u001b[0m \u001b[0;34m==\u001b[0m \u001b[0;34m\"python\"\u001b[0m\u001b[0;34m:\u001b[0m\u001b[0;34m\u001b[0m\u001b[0;34m\u001b[0m\u001b[0m\n",
      "\u001b[0;32m~/opt/anaconda3/envs/dl/lib/python3.8/site-packages/pandas/io/parsers.py\u001b[0m in \u001b[0;36m__init__\u001b[0;34m(self, src, **kwds)\u001b[0m\n\u001b[1;32m   1889\u001b[0m         \u001b[0mkwds\u001b[0m\u001b[0;34m[\u001b[0m\u001b[0;34m\"usecols\"\u001b[0m\u001b[0;34m]\u001b[0m \u001b[0;34m=\u001b[0m \u001b[0mself\u001b[0m\u001b[0;34m.\u001b[0m\u001b[0musecols\u001b[0m\u001b[0;34m\u001b[0m\u001b[0;34m\u001b[0m\u001b[0m\n\u001b[1;32m   1890\u001b[0m \u001b[0;34m\u001b[0m\u001b[0m\n\u001b[0;32m-> 1891\u001b[0;31m         \u001b[0mself\u001b[0m\u001b[0;34m.\u001b[0m\u001b[0m_reader\u001b[0m \u001b[0;34m=\u001b[0m \u001b[0mparsers\u001b[0m\u001b[0;34m.\u001b[0m\u001b[0mTextReader\u001b[0m\u001b[0;34m(\u001b[0m\u001b[0msrc\u001b[0m\u001b[0;34m,\u001b[0m \u001b[0;34m**\u001b[0m\u001b[0mkwds\u001b[0m\u001b[0;34m)\u001b[0m\u001b[0;34m\u001b[0m\u001b[0;34m\u001b[0m\u001b[0m\n\u001b[0m\u001b[1;32m   1892\u001b[0m         \u001b[0mself\u001b[0m\u001b[0;34m.\u001b[0m\u001b[0munnamed_cols\u001b[0m \u001b[0;34m=\u001b[0m \u001b[0mself\u001b[0m\u001b[0;34m.\u001b[0m\u001b[0m_reader\u001b[0m\u001b[0;34m.\u001b[0m\u001b[0munnamed_cols\u001b[0m\u001b[0;34m\u001b[0m\u001b[0;34m\u001b[0m\u001b[0m\n\u001b[1;32m   1893\u001b[0m \u001b[0;34m\u001b[0m\u001b[0m\n",
      "\u001b[0;32mpandas/_libs/parsers.pyx\u001b[0m in \u001b[0;36mpandas._libs.parsers.TextReader.__cinit__\u001b[0;34m()\u001b[0m\n",
      "\u001b[0;32mpandas/_libs/parsers.pyx\u001b[0m in \u001b[0;36mpandas._libs.parsers.TextReader._setup_parser_source\u001b[0;34m()\u001b[0m\n",
      "\u001b[0;31mFileNotFoundError\u001b[0m: [Errno 2] File testset.csv does not exist: 'testset.csv'"
     ]
    }
   ],
   "source": [
    "import pandas as pd\n",
    "\n",
    "test = pd.read_csv('testset.csv')\n",
    "use = ['no2', 'co', 'so2', 'pm25_con', 'temp', 'wind_direction', 'cloud', 'precipitation',\n",
    "       'pressure', 'wind_speed', 'gust', 'overall']\n",
    "test_sample = test[use].iloc[4]"
   ]
  },
  {
   "cell_type": "code",
   "execution_count": 3,
   "metadata": {},
   "outputs": [
    {
     "name": "stdout",
     "output_type": "stream",
     "text": [
      "[0.031, 0.5, 0.004, 15.0, 3.0, 6.0, 0.0, 1031.0, 3.0, 4.0, 'NNE', 'Sunny']\n"
     ]
    }
   ],
   "source": [
    "test_sample = [0.031, 0.5, 0.004, 15.0, 3.0, 6.0, 0.0, 1031.0, 3.0, 4.0, 'NNE', 'Sunny']\n",
    "feature = ['no2', 'co', 'so2', 'pm25_con', 'temp', 'cloud', 'precipitation',\n",
    "           'pressure', 'wind_speed', 'gust', 'wind_direction', 'overall'] # 입력 받아서 이 순서대로 벡터 구성\n",
    "non_cat = ['no2', 'co', 'so2', 'pm25_con', 'temp', 'cloud', 'precipitation',\n",
    "           'pressure', 'wind_speed', 'gust'] # non-categorical\n",
    "print(test_sample)"
   ]
  },
  {
   "cell_type": "markdown",
   "metadata": {},
   "source": [
    "## 데이터 전처리"
   ]
  },
  {
   "cell_type": "markdown",
   "metadata": {},
   "source": [
    "### 이전 데이터 분포 입력 받기"
   ]
  },
  {
   "cell_type": "code",
   "execution_count": 4,
   "metadata": {},
   "outputs": [
    {
     "ename": "FileNotFoundError",
     "evalue": "[Errno 2] File distribution.csv does not exist: 'distribution.csv'",
     "output_type": "error",
     "traceback": [
      "\u001b[0;31m---------------------------------------------------------------------------\u001b[0m",
      "\u001b[0;31mFileNotFoundError\u001b[0m                         Traceback (most recent call last)",
      "\u001b[0;32m<ipython-input-4-b2c8e9274628>\u001b[0m in \u001b[0;36m<module>\u001b[0;34m\u001b[0m\n\u001b[0;32m----> 1\u001b[0;31m \u001b[0mdf\u001b[0m \u001b[0;34m=\u001b[0m \u001b[0mpd\u001b[0m\u001b[0;34m.\u001b[0m\u001b[0mread_csv\u001b[0m\u001b[0;34m(\u001b[0m\u001b[0;34m'distribution.csv'\u001b[0m\u001b[0;34m)\u001b[0m\u001b[0;34m\u001b[0m\u001b[0;34m\u001b[0m\u001b[0m\n\u001b[0m\u001b[1;32m      2\u001b[0m \u001b[0mdf\u001b[0m\u001b[0;34m\u001b[0m\u001b[0;34m\u001b[0m\u001b[0m\n",
      "\u001b[0;32m~/opt/anaconda3/envs/dl/lib/python3.8/site-packages/pandas/io/parsers.py\u001b[0m in \u001b[0;36mparser_f\u001b[0;34m(filepath_or_buffer, sep, delimiter, header, names, index_col, usecols, squeeze, prefix, mangle_dupe_cols, dtype, engine, converters, true_values, false_values, skipinitialspace, skiprows, skipfooter, nrows, na_values, keep_default_na, na_filter, verbose, skip_blank_lines, parse_dates, infer_datetime_format, keep_date_col, date_parser, dayfirst, cache_dates, iterator, chunksize, compression, thousands, decimal, lineterminator, quotechar, quoting, doublequote, escapechar, comment, encoding, dialect, error_bad_lines, warn_bad_lines, delim_whitespace, low_memory, memory_map, float_precision)\u001b[0m\n\u001b[1;32m    674\u001b[0m         )\n\u001b[1;32m    675\u001b[0m \u001b[0;34m\u001b[0m\u001b[0m\n\u001b[0;32m--> 676\u001b[0;31m         \u001b[0;32mreturn\u001b[0m \u001b[0m_read\u001b[0m\u001b[0;34m(\u001b[0m\u001b[0mfilepath_or_buffer\u001b[0m\u001b[0;34m,\u001b[0m \u001b[0mkwds\u001b[0m\u001b[0;34m)\u001b[0m\u001b[0;34m\u001b[0m\u001b[0;34m\u001b[0m\u001b[0m\n\u001b[0m\u001b[1;32m    677\u001b[0m \u001b[0;34m\u001b[0m\u001b[0m\n\u001b[1;32m    678\u001b[0m     \u001b[0mparser_f\u001b[0m\u001b[0;34m.\u001b[0m\u001b[0m__name__\u001b[0m \u001b[0;34m=\u001b[0m \u001b[0mname\u001b[0m\u001b[0;34m\u001b[0m\u001b[0;34m\u001b[0m\u001b[0m\n",
      "\u001b[0;32m~/opt/anaconda3/envs/dl/lib/python3.8/site-packages/pandas/io/parsers.py\u001b[0m in \u001b[0;36m_read\u001b[0;34m(filepath_or_buffer, kwds)\u001b[0m\n\u001b[1;32m    446\u001b[0m \u001b[0;34m\u001b[0m\u001b[0m\n\u001b[1;32m    447\u001b[0m     \u001b[0;31m# Create the parser.\u001b[0m\u001b[0;34m\u001b[0m\u001b[0;34m\u001b[0m\u001b[0;34m\u001b[0m\u001b[0m\n\u001b[0;32m--> 448\u001b[0;31m     \u001b[0mparser\u001b[0m \u001b[0;34m=\u001b[0m \u001b[0mTextFileReader\u001b[0m\u001b[0;34m(\u001b[0m\u001b[0mfp_or_buf\u001b[0m\u001b[0;34m,\u001b[0m \u001b[0;34m**\u001b[0m\u001b[0mkwds\u001b[0m\u001b[0;34m)\u001b[0m\u001b[0;34m\u001b[0m\u001b[0;34m\u001b[0m\u001b[0m\n\u001b[0m\u001b[1;32m    449\u001b[0m \u001b[0;34m\u001b[0m\u001b[0m\n\u001b[1;32m    450\u001b[0m     \u001b[0;32mif\u001b[0m \u001b[0mchunksize\u001b[0m \u001b[0;32mor\u001b[0m \u001b[0miterator\u001b[0m\u001b[0;34m:\u001b[0m\u001b[0;34m\u001b[0m\u001b[0;34m\u001b[0m\u001b[0m\n",
      "\u001b[0;32m~/opt/anaconda3/envs/dl/lib/python3.8/site-packages/pandas/io/parsers.py\u001b[0m in \u001b[0;36m__init__\u001b[0;34m(self, f, engine, **kwds)\u001b[0m\n\u001b[1;32m    878\u001b[0m             \u001b[0mself\u001b[0m\u001b[0;34m.\u001b[0m\u001b[0moptions\u001b[0m\u001b[0;34m[\u001b[0m\u001b[0;34m\"has_index_names\"\u001b[0m\u001b[0;34m]\u001b[0m \u001b[0;34m=\u001b[0m \u001b[0mkwds\u001b[0m\u001b[0;34m[\u001b[0m\u001b[0;34m\"has_index_names\"\u001b[0m\u001b[0;34m]\u001b[0m\u001b[0;34m\u001b[0m\u001b[0;34m\u001b[0m\u001b[0m\n\u001b[1;32m    879\u001b[0m \u001b[0;34m\u001b[0m\u001b[0m\n\u001b[0;32m--> 880\u001b[0;31m         \u001b[0mself\u001b[0m\u001b[0;34m.\u001b[0m\u001b[0m_make_engine\u001b[0m\u001b[0;34m(\u001b[0m\u001b[0mself\u001b[0m\u001b[0;34m.\u001b[0m\u001b[0mengine\u001b[0m\u001b[0;34m)\u001b[0m\u001b[0;34m\u001b[0m\u001b[0;34m\u001b[0m\u001b[0m\n\u001b[0m\u001b[1;32m    881\u001b[0m \u001b[0;34m\u001b[0m\u001b[0m\n\u001b[1;32m    882\u001b[0m     \u001b[0;32mdef\u001b[0m \u001b[0mclose\u001b[0m\u001b[0;34m(\u001b[0m\u001b[0mself\u001b[0m\u001b[0;34m)\u001b[0m\u001b[0;34m:\u001b[0m\u001b[0;34m\u001b[0m\u001b[0;34m\u001b[0m\u001b[0m\n",
      "\u001b[0;32m~/opt/anaconda3/envs/dl/lib/python3.8/site-packages/pandas/io/parsers.py\u001b[0m in \u001b[0;36m_make_engine\u001b[0;34m(self, engine)\u001b[0m\n\u001b[1;32m   1112\u001b[0m     \u001b[0;32mdef\u001b[0m \u001b[0m_make_engine\u001b[0m\u001b[0;34m(\u001b[0m\u001b[0mself\u001b[0m\u001b[0;34m,\u001b[0m \u001b[0mengine\u001b[0m\u001b[0;34m=\u001b[0m\u001b[0;34m\"c\"\u001b[0m\u001b[0;34m)\u001b[0m\u001b[0;34m:\u001b[0m\u001b[0;34m\u001b[0m\u001b[0;34m\u001b[0m\u001b[0m\n\u001b[1;32m   1113\u001b[0m         \u001b[0;32mif\u001b[0m \u001b[0mengine\u001b[0m \u001b[0;34m==\u001b[0m \u001b[0;34m\"c\"\u001b[0m\u001b[0;34m:\u001b[0m\u001b[0;34m\u001b[0m\u001b[0;34m\u001b[0m\u001b[0m\n\u001b[0;32m-> 1114\u001b[0;31m             \u001b[0mself\u001b[0m\u001b[0;34m.\u001b[0m\u001b[0m_engine\u001b[0m \u001b[0;34m=\u001b[0m \u001b[0mCParserWrapper\u001b[0m\u001b[0;34m(\u001b[0m\u001b[0mself\u001b[0m\u001b[0;34m.\u001b[0m\u001b[0mf\u001b[0m\u001b[0;34m,\u001b[0m \u001b[0;34m**\u001b[0m\u001b[0mself\u001b[0m\u001b[0;34m.\u001b[0m\u001b[0moptions\u001b[0m\u001b[0;34m)\u001b[0m\u001b[0;34m\u001b[0m\u001b[0;34m\u001b[0m\u001b[0m\n\u001b[0m\u001b[1;32m   1115\u001b[0m         \u001b[0;32melse\u001b[0m\u001b[0;34m:\u001b[0m\u001b[0;34m\u001b[0m\u001b[0;34m\u001b[0m\u001b[0m\n\u001b[1;32m   1116\u001b[0m             \u001b[0;32mif\u001b[0m \u001b[0mengine\u001b[0m \u001b[0;34m==\u001b[0m \u001b[0;34m\"python\"\u001b[0m\u001b[0;34m:\u001b[0m\u001b[0;34m\u001b[0m\u001b[0;34m\u001b[0m\u001b[0m\n",
      "\u001b[0;32m~/opt/anaconda3/envs/dl/lib/python3.8/site-packages/pandas/io/parsers.py\u001b[0m in \u001b[0;36m__init__\u001b[0;34m(self, src, **kwds)\u001b[0m\n\u001b[1;32m   1889\u001b[0m         \u001b[0mkwds\u001b[0m\u001b[0;34m[\u001b[0m\u001b[0;34m\"usecols\"\u001b[0m\u001b[0;34m]\u001b[0m \u001b[0;34m=\u001b[0m \u001b[0mself\u001b[0m\u001b[0;34m.\u001b[0m\u001b[0musecols\u001b[0m\u001b[0;34m\u001b[0m\u001b[0;34m\u001b[0m\u001b[0m\n\u001b[1;32m   1890\u001b[0m \u001b[0;34m\u001b[0m\u001b[0m\n\u001b[0;32m-> 1891\u001b[0;31m         \u001b[0mself\u001b[0m\u001b[0;34m.\u001b[0m\u001b[0m_reader\u001b[0m \u001b[0;34m=\u001b[0m \u001b[0mparsers\u001b[0m\u001b[0;34m.\u001b[0m\u001b[0mTextReader\u001b[0m\u001b[0;34m(\u001b[0m\u001b[0msrc\u001b[0m\u001b[0;34m,\u001b[0m \u001b[0;34m**\u001b[0m\u001b[0mkwds\u001b[0m\u001b[0;34m)\u001b[0m\u001b[0;34m\u001b[0m\u001b[0;34m\u001b[0m\u001b[0m\n\u001b[0m\u001b[1;32m   1892\u001b[0m         \u001b[0mself\u001b[0m\u001b[0;34m.\u001b[0m\u001b[0munnamed_cols\u001b[0m \u001b[0;34m=\u001b[0m \u001b[0mself\u001b[0m\u001b[0;34m.\u001b[0m\u001b[0m_reader\u001b[0m\u001b[0;34m.\u001b[0m\u001b[0munnamed_cols\u001b[0m\u001b[0;34m\u001b[0m\u001b[0;34m\u001b[0m\u001b[0m\n\u001b[1;32m   1893\u001b[0m \u001b[0;34m\u001b[0m\u001b[0m\n",
      "\u001b[0;32mpandas/_libs/parsers.pyx\u001b[0m in \u001b[0;36mpandas._libs.parsers.TextReader.__cinit__\u001b[0;34m()\u001b[0m\n",
      "\u001b[0;32mpandas/_libs/parsers.pyx\u001b[0m in \u001b[0;36mpandas._libs.parsers.TextReader._setup_parser_source\u001b[0;34m()\u001b[0m\n",
      "\u001b[0;31mFileNotFoundError\u001b[0m: [Errno 2] File distribution.csv does not exist: 'distribution.csv'"
     ]
    }
   ],
   "source": [
    "df = pd.read_csv('distribution.csv')\n",
    "df"
   ]
  },
  {
   "cell_type": "code",
   "execution_count": 118,
   "metadata": {},
   "outputs": [
    {
     "name": "stdout",
     "output_type": "stream",
     "text": [
      "defaultdict(<function <lambda> at 0x7fbfcf4581f0>, {'no2': [0.03243439691926833, 0.015167630117481656], 'co': [0.5384231880071517, 0.2404888549704333], 'so2': [0.005165211112639252, 0.002012093893840232], 'pm25_con': [24.943267776096825, 16.482869412642348], 'temp': [12.587367624810893, 10.928954439561892], 'cloud': [33.30607894374914, 34.34003921577874], 'precipitation': [0.4681096135332141, 2.180623895687632], 'pressure': [1016.3186631825058, 8.056032133544594], 'wind_speed': [5.971943336542429, 4.269604098872862], 'gust': [8.502406821620134, 5.851627487582354]})\n"
     ]
    }
   ],
   "source": [
    "from collections import defaultdict\n",
    "\n",
    "dist_dict = defaultdict(lambda: list())\n",
    "for f in non_cat:\n",
    "    mean = df[f][1]\n",
    "    std = df[f][2]\n",
    "    dist_dict[f].append(mean)\n",
    "    dist_dict[f].append(std)\n",
    "print(dist_dict)\n",
    "\n",
    "with open('dist.txt', 'w') as f:\n",
    "    keys = dist_dict.keys()\n",
    "    for key in keys:\n",
    "        f.write(key + ',' + str(dist_dict[key][0]) + ',' + str(dist_dict[key][1]) + '\\n')"
   ]
  },
  {
   "cell_type": "markdown",
   "metadata": {},
   "source": [
    "여기서부터 dist 데이터 가져오기"
   ]
  },
  {
   "cell_type": "code",
   "execution_count": 5,
   "metadata": {},
   "outputs": [],
   "source": [
    "def load_distribution(file):\n",
    "    result = dict()\n",
    "    with open(file, 'r') as f:\n",
    "        lines = f.readlines()\n",
    "    for line in lines:\n",
    "        key, mean, std = line.strip().split(',')\n",
    "        result[key] = [float(mean)]\n",
    "        result[key].append(float(std))\n",
    "    return result"
   ]
  },
  {
   "cell_type": "code",
   "execution_count": 6,
   "metadata": {},
   "outputs": [
    {
     "data": {
      "text/plain": "{'no2': [0.03243439691926833, 0.015167630117481656],\n 'co': [0.5384231880071517, 0.2404888549704333],\n 'so2': [0.005165211112639252, 0.002012093893840232],\n 'pm25_con': [24.943267776096825, 16.482869412642348],\n 'temp': [12.587367624810893, 10.928954439561892],\n 'cloud': [33.30607894374914, 34.34003921577874],\n 'precipitation': [0.4681096135332141, 2.180623895687632],\n 'pressure': [1016.3186631825058, 8.056032133544594],\n 'wind_speed': [5.971943336542429, 4.269604098872862],\n 'gust': [8.502406821620134, 5.851627487582354]}"
     },
     "execution_count": 6,
     "metadata": {},
     "output_type": "execute_result"
    }
   ],
   "source": [
    "dist = load_distribution('dist.txt')\n",
    "keys = list(dist.keys())\n",
    "dist"
   ]
  },
  {
   "cell_type": "markdown",
   "metadata": {},
   "source": [
    "### 결측 값이 있다면 평균치로 채워주기 "
   ]
  },
  {
   "cell_type": "code",
   "execution_count": 7,
   "metadata": {},
   "outputs": [
    {
     "data": {
      "text/plain": "[0.031, 0.5, 0.004, 15.0, 3.0, 6.0, 0.0, 1031.0, 3.0, 4.0, 'NNE', 'Sunny']"
     },
     "execution_count": 7,
     "metadata": {},
     "output_type": "execute_result"
    }
   ],
   "source": [
    "test_sample"
   ]
  },
  {
   "cell_type": "code",
   "execution_count": 8,
   "metadata": {},
   "outputs": [],
   "source": [
    "def fill_false(sample):\n",
    "    global dist, keys\n",
    "    for i in range(len(keys)):\n",
    "        if not sample[i] and sample[i] != 0:\n",
    "            sample[i] = dist[keys[i]][0] # 평균치로 채우기\n",
    "    return sample"
   ]
  },
  {
   "cell_type": "code",
   "execution_count": 9,
   "metadata": {},
   "outputs": [
    {
     "name": "stdout",
     "output_type": "stream",
     "text": [
      "[0.031, 0.5, 0.004, 15.0, 3.0, 6.0, 0.0, 1031.0, 3.0, 4.0, 'NNE', 'Sunny']\n"
     ]
    }
   ],
   "source": [
    "test_sample = fill_false(test_sample)\n",
    "print(test_sample)"
   ]
  },
  {
   "cell_type": "markdown",
   "metadata": {},
   "source": [
    "### 전처리\n",
    "1. NO2, CO, SO2, pressure를 standardization\n",
    "2. wind_direction, overall, pm25_cat encoding"
   ]
  },
  {
   "cell_type": "code",
   "execution_count": 10,
   "metadata": {},
   "outputs": [],
   "source": [
    "# functions to encode (여기는 다른 파일에!)\n",
    "# 바람 변환\n",
    "wind_map = {'NW': 'W', 'WSW': 'W', 'WNW': 'W', 'W': 'W', 'SW': 'W', 'SSW': 'S', 'E': 'E', 'ENE': 'E',\n",
    "           'ESE': 'E', 'NNW': 'N', 'SE': 'E', 'S': 'S', 'SSE': 'S', 'NE': 'E', 'NNE': 'N', 'N': 'N'}\n",
    "\n",
    "def cat_wind(val):\n",
    "    return wind_map[val]\n",
    "\n",
    "wind_map_int = {'W': 0, 'E': 1, 'S': 2, 'N': 3}\n",
    "def encode_wind(val):\n",
    "    return wind_map_int[val]\n",
    "\n",
    "# 날씨 변환\n",
    "rain = set(['drizzle', 'rain', 'snow', 'sleet'])\n",
    "def cat_overall(val):\n",
    "    if set(val.lower().split()) & rain:\n",
    "        return 1\n",
    "    else:\n",
    "        return 0\n",
    "\n",
    "# PM25 카테고라이즈\n",
    "def cat_pm25(val):\n",
    "    if val < 15:\n",
    "        return 0\n",
    "    elif 15 <= val < 35:\n",
    "        return 1\n",
    "    elif 36 <= val < 75:\n",
    "        return 2\n",
    "    else:\n",
    "        return 3"
   ]
  },
  {
   "cell_type": "code",
   "execution_count": 11,
   "metadata": {},
   "outputs": [],
   "source": [
    "def process(sample, dist):\n",
    "    keys = list(dist.keys())\n",
    "    standard = [0,1,2,7] # standardization idx: NO2, CO, SO2, pressure\n",
    "    for i in standard:\n",
    "        sample[i] = (sample[i] - dist[keys[i]][0]) / dist[keys[i]][1] # get Z\n",
    "    # 날씨\n",
    "    if type(sample[11]) == str:\n",
    "        sample[11] = cat_overall(sample[11])\n",
    "    # 바람 변환\n",
    "    sample[10] = encode_wind(cat_wind(sample[10]))\n",
    "    return sample"
   ]
  },
  {
   "cell_type": "code",
   "execution_count": 12,
   "metadata": {},
   "outputs": [
    {
     "data": {
      "text/plain": "[[-0.0945696135888163,\n  -0.15977117946640657,\n  -0.5791037467020784,\n  15.0,\n  3.0,\n  6.0,\n  0.0,\n  1.8224029614234551,\n  3.0,\n  4.0,\n  3,\n  0]]"
     },
     "execution_count": 12,
     "metadata": {},
     "output_type": "execute_result"
    }
   ],
   "source": [
    "X = process(test_sample, dist)\n",
    "X = [X]\n",
    "X"
   ]
  },
  {
   "cell_type": "markdown",
   "metadata": {},
   "source": [
    "## 모델 Load"
   ]
  },
  {
   "cell_type": "code",
   "execution_count": 14,
   "metadata": {},
   "outputs": [],
   "source": [
    "import joblib\n",
    "\n",
    "model_path = 'AiR_Predictor_RF.pkl'\n",
    "model = joblib.load(model_path)"
   ]
  },
  {
   "cell_type": "code",
   "execution_count": 16,
   "metadata": {},
   "outputs": [],
   "source": [
    "y = model.predict(X)"
   ]
  },
  {
   "cell_type": "code",
   "execution_count": 18,
   "metadata": {},
   "outputs": [
    {
     "data": {
      "text/plain": "1"
     },
     "execution_count": 18,
     "metadata": {},
     "output_type": "execute_result"
    }
   ],
   "source": [
    "y.item()"
   ]
  },
  {
   "cell_type": "code",
   "execution_count": 179,
   "metadata": {},
   "outputs": [],
   "source": [
    "class_map = {0: 'good', 1: 'moderate', 2: 'bad', 3: 'worst'}"
   ]
  },
  {
   "cell_type": "code",
   "execution_count": null,
   "metadata": {},
   "outputs": [],
   "source": []
  },
  {
   "cell_type": "code",
   "execution_count": null,
   "metadata": {},
   "outputs": [],
   "source": []
  },
  {
   "cell_type": "code",
   "execution_count": null,
   "metadata": {},
   "outputs": [],
   "source": []
  },
  {
   "cell_type": "code",
   "execution_count": null,
   "metadata": {},
   "outputs": [],
   "source": []
  },
  {
   "cell_type": "code",
   "execution_count": null,
   "metadata": {},
   "outputs": [],
   "source": []
  },
  {
   "cell_type": "code",
   "execution_count": 12,
   "metadata": {},
   "outputs": [
    {
     "data": {
      "text/plain": [
       "<All keys matched successfully>"
      ]
     },
     "execution_count": 12,
     "metadata": {},
     "output_type": "execute_result"
    }
   ],
   "source": [
    "from easydict import EasyDict\n",
    "import torch\n",
    "import os, sys\n",
    "from model.air_predictor import AiR_predictor, AiR_predictor_att\n",
    "\n",
    "opt = EasyDict()\n",
    "opt.features = ['no2', 'co', 'so2', 'pm25_con', 'temp', 'wind_direction', 'cloud', 'precipitation',\n",
    "                'pressure', 'wind_speed', 'gust', 'overall_int', 'pm25_cat']\n",
    "opt.seed = 42\n",
    "opt.dataset = 2 # 1 for ml(past pm), 2 for dl(seq)\n",
    "opt.seq_length = 5 # 3, 5, 10 how many timesteps to use for prediction\n",
    "opt.test_ratio = 0.2 # 0.2 for dl models 0.3 for ml models\n",
    "opt.val_ratio = 0.2 # for dl models\n",
    "opt.batch_size = 16 # for dl models\n",
    "opt.num_epochs = 15 # for dl models\n",
    "opt.log_steps = 2000 # for dl models\n",
    "opt.patience = 5 # for dl models\n",
    "opt.device = torch.device('cuda' if torch.cuda.is_available() else 'cpu')\n",
    "\n",
    "opt.model_name = 'full' # ml: [dt, rf], dl: [full, each] (encoder)\n",
    "opt.num_classes = 4 # for dl models\n",
    "opt.num_layers = None # for dl models\n",
    "opt.dir = ''\n",
    "\n",
    "model = AiR_predictor(input_dim=16, embed_dim=256, rnn_dim=256, fc_dim=128, num_classes=4, bidirectional=False,\n",
    "                     opt=opt)\n",
    "weight = 'BEST_full_val_acc_81.31_'\n",
    "path = os.path.join('state_dict', weight)\n",
    "model.load_state_dict(torch.load(path, map_location=torch.device('cpu')))\n",
    "#loss, acc, f1, truth, pred = evaluate(test_loader, model=model, criterion=criterion, opt=opt)\n",
    "#print('test loss: {:.3f} | test_acc: {:.2f}% | test_f1: {:.2f}'.format(loss, acc*100, f1))"
   ]
  },
  {
   "cell_type": "code",
   "execution_count": 13,
   "metadata": {},
   "outputs": [
    {
     "data": {
      "text/plain": [
       "AiR_predictor(\n",
       "  (embedding): Linear(in_features=16, out_features=256, bias=True)\n",
       "  (rnn): LSTM(256, 256, batch_first=True)\n",
       "  (fc): Linear(in_features=256, out_features=4, bias=True)\n",
       ")"
      ]
     },
     "execution_count": 13,
     "metadata": {},
     "output_type": "execute_result"
    }
   ],
   "source": [
    "model"
   ]
  },
  {
   "cell_type": "markdown",
   "metadata": {},
   "source": [
    "## 데이터 변환"
   ]
  },
  {
   "cell_type": "code",
   "execution_count": 16,
   "metadata": {},
   "outputs": [],
   "source": [
    "import pandas as pd\n",
    "df_before = pd.read_csv('dataset/for_Seq.csv')"
   ]
  },
  {
   "cell_type": "code",
   "execution_count": 21,
   "metadata": {},
   "outputs": [
    {
     "data": {
      "text/html": [
       "<div>\n",
       "<style scoped>\n",
       "    .dataframe tbody tr th:only-of-type {\n",
       "        vertical-align: middle;\n",
       "    }\n",
       "\n",
       "    .dataframe tbody tr th {\n",
       "        vertical-align: top;\n",
       "    }\n",
       "\n",
       "    .dataframe thead th {\n",
       "        text-align: right;\n",
       "    }\n",
       "</style>\n",
       "<table border=\"1\" class=\"dataframe\">\n",
       "  <thead>\n",
       "    <tr style=\"text-align: right;\">\n",
       "      <th></th>\n",
       "      <th>no2</th>\n",
       "      <th>co</th>\n",
       "      <th>so2</th>\n",
       "      <th>pm25_con</th>\n",
       "      <th>temp</th>\n",
       "      <th>wind_direction</th>\n",
       "      <th>cloud</th>\n",
       "      <th>precipitation</th>\n",
       "      <th>pressure</th>\n",
       "      <th>wind_speed</th>\n",
       "      <th>gust</th>\n",
       "      <th>overall_int</th>\n",
       "      <th>pm25_cat</th>\n",
       "    </tr>\n",
       "  </thead>\n",
       "  <tbody>\n",
       "    <tr>\n",
       "      <th>count</th>\n",
       "      <td>2.908400e+04</td>\n",
       "      <td>2.908400e+04</td>\n",
       "      <td>2.908400e+04</td>\n",
       "      <td>2.908400e+04</td>\n",
       "      <td>2.908400e+04</td>\n",
       "      <td>29084.000000</td>\n",
       "      <td>2.908400e+04</td>\n",
       "      <td>2.908400e+04</td>\n",
       "      <td>2.908400e+04</td>\n",
       "      <td>2.908400e+04</td>\n",
       "      <td>2.908400e+04</td>\n",
       "      <td>29084.000000</td>\n",
       "      <td>29084.000000</td>\n",
       "    </tr>\n",
       "    <tr>\n",
       "      <th>mean</th>\n",
       "      <td>-3.361666e-16</td>\n",
       "      <td>-1.172674e-16</td>\n",
       "      <td>-1.954457e-16</td>\n",
       "      <td>-8.990501e-17</td>\n",
       "      <td>-1.114040e-16</td>\n",
       "      <td>0.987072</td>\n",
       "      <td>-1.172674e-17</td>\n",
       "      <td>5.472479e-17</td>\n",
       "      <td>3.662652e-15</td>\n",
       "      <td>-7.426935e-17</td>\n",
       "      <td>8.599610e-17</td>\n",
       "      <td>0.188523</td>\n",
       "      <td>0.962454</td>\n",
       "    </tr>\n",
       "    <tr>\n",
       "      <th>std</th>\n",
       "      <td>1.000017e+00</td>\n",
       "      <td>1.000017e+00</td>\n",
       "      <td>1.000017e+00</td>\n",
       "      <td>1.000017e+00</td>\n",
       "      <td>1.000017e+00</td>\n",
       "      <td>1.069068</td>\n",
       "      <td>1.000017e+00</td>\n",
       "      <td>1.000017e+00</td>\n",
       "      <td>1.000017e+00</td>\n",
       "      <td>1.000017e+00</td>\n",
       "      <td>1.000017e+00</td>\n",
       "      <td>0.391136</td>\n",
       "      <td>0.750042</td>\n",
       "    </tr>\n",
       "    <tr>\n",
       "      <th>min</th>\n",
       "      <td>-1.940640e+00</td>\n",
       "      <td>-1.407254e+00</td>\n",
       "      <td>-1.573120e+00</td>\n",
       "      <td>-1.391970e+00</td>\n",
       "      <td>-3.164801e+00</td>\n",
       "      <td>0.000000</td>\n",
       "      <td>-9.699072e-01</td>\n",
       "      <td>-2.146714e-01</td>\n",
       "      <td>-4.508334e+00</td>\n",
       "      <td>-1.398735e+00</td>\n",
       "      <td>-1.453024e+00</td>\n",
       "      <td>0.000000</td>\n",
       "      <td>0.000000</td>\n",
       "    </tr>\n",
       "    <tr>\n",
       "      <th>25%</th>\n",
       "      <td>-8.198124e-01</td>\n",
       "      <td>-5.756008e-01</td>\n",
       "      <td>-5.791137e-01</td>\n",
       "      <td>-6.639291e-01</td>\n",
       "      <td>-8.772598e-01</td>\n",
       "      <td>0.000000</td>\n",
       "      <td>-8.825441e-01</td>\n",
       "      <td>-2.146714e-01</td>\n",
       "      <td>-7.843529e-01</td>\n",
       "      <td>-6.960820e-01</td>\n",
       "      <td>-7.694414e-01</td>\n",
       "      <td>0.000000</td>\n",
       "      <td>0.000000</td>\n",
       "    </tr>\n",
       "    <tr>\n",
       "      <th>50%</th>\n",
       "      <td>-1.605023e-01</td>\n",
       "      <td>-1.597739e-01</td>\n",
       "      <td>-8.211046e-02</td>\n",
       "      <td>-2.392384e-01</td>\n",
       "      <td>1.292582e-01</td>\n",
       "      <td>1.000000</td>\n",
       "      <td>-4.166077e-01</td>\n",
       "      <td>-2.146714e-01</td>\n",
       "      <td>8.457619e-02</td>\n",
       "      <td>-2.276464e-01</td>\n",
       "      <td>-2.567547e-01</td>\n",
       "      <td>0.000000</td>\n",
       "      <td>1.000000</td>\n",
       "    </tr>\n",
       "    <tr>\n",
       "      <th>75%</th>\n",
       "      <td>6.306699e-01</td>\n",
       "      <td>2.560529e-01</td>\n",
       "      <td>4.148928e-01</td>\n",
       "      <td>4.281326e-01</td>\n",
       "      <td>8.612712e-01</td>\n",
       "      <td>2.000000</td>\n",
       "      <td>7.482334e-01</td>\n",
       "      <td>-2.146714e-01</td>\n",
       "      <td>8.293725e-01</td>\n",
       "      <td>4.750069e-01</td>\n",
       "      <td>4.268276e-01</td>\n",
       "      <td>0.000000</td>\n",
       "      <td>1.000000</td>\n",
       "    </tr>\n",
       "    <tr>\n",
       "      <th>max</th>\n",
       "      <td>5.245841e+00</td>\n",
       "      <td>8.572590e+00</td>\n",
       "      <td>1.482799e+01</td>\n",
       "      <td>2.427148e+01</td>\n",
       "      <td>2.416799e+00</td>\n",
       "      <td>3.000000</td>\n",
       "      <td>1.942195e+00</td>\n",
       "      <td>3.982043e+01</td>\n",
       "      <td>2.691363e+00</td>\n",
       "      <td>7.267323e+00</td>\n",
       "      <td>7.262650e+00</td>\n",
       "      <td>1.000000</td>\n",
       "      <td>3.000000</td>\n",
       "    </tr>\n",
       "  </tbody>\n",
       "</table>\n",
       "</div>"
      ],
      "text/plain": [
       "                no2            co           so2      pm25_con          temp  \\\n",
       "count  2.908400e+04  2.908400e+04  2.908400e+04  2.908400e+04  2.908400e+04   \n",
       "mean  -3.361666e-16 -1.172674e-16 -1.954457e-16 -8.990501e-17 -1.114040e-16   \n",
       "std    1.000017e+00  1.000017e+00  1.000017e+00  1.000017e+00  1.000017e+00   \n",
       "min   -1.940640e+00 -1.407254e+00 -1.573120e+00 -1.391970e+00 -3.164801e+00   \n",
       "25%   -8.198124e-01 -5.756008e-01 -5.791137e-01 -6.639291e-01 -8.772598e-01   \n",
       "50%   -1.605023e-01 -1.597739e-01 -8.211046e-02 -2.392384e-01  1.292582e-01   \n",
       "75%    6.306699e-01  2.560529e-01  4.148928e-01  4.281326e-01  8.612712e-01   \n",
       "max    5.245841e+00  8.572590e+00  1.482799e+01  2.427148e+01  2.416799e+00   \n",
       "\n",
       "       wind_direction         cloud  precipitation      pressure  \\\n",
       "count    29084.000000  2.908400e+04   2.908400e+04  2.908400e+04   \n",
       "mean         0.987072 -1.172674e-17   5.472479e-17  3.662652e-15   \n",
       "std          1.069068  1.000017e+00   1.000017e+00  1.000017e+00   \n",
       "min          0.000000 -9.699072e-01  -2.146714e-01 -4.508334e+00   \n",
       "25%          0.000000 -8.825441e-01  -2.146714e-01 -7.843529e-01   \n",
       "50%          1.000000 -4.166077e-01  -2.146714e-01  8.457619e-02   \n",
       "75%          2.000000  7.482334e-01  -2.146714e-01  8.293725e-01   \n",
       "max          3.000000  1.942195e+00   3.982043e+01  2.691363e+00   \n",
       "\n",
       "         wind_speed          gust   overall_int      pm25_cat  \n",
       "count  2.908400e+04  2.908400e+04  29084.000000  29084.000000  \n",
       "mean  -7.426935e-17  8.599610e-17      0.188523      0.962454  \n",
       "std    1.000017e+00  1.000017e+00      0.391136      0.750042  \n",
       "min   -1.398735e+00 -1.453024e+00      0.000000      0.000000  \n",
       "25%   -6.960820e-01 -7.694414e-01      0.000000      0.000000  \n",
       "50%   -2.276464e-01 -2.567547e-01      0.000000      1.000000  \n",
       "75%    4.750069e-01  4.268276e-01      0.000000      1.000000  \n",
       "max    7.267323e+00  7.262650e+00      1.000000      3.000000  "
      ]
     },
     "execution_count": 21,
     "metadata": {},
     "output_type": "execute_result"
    }
   ],
   "source": [
    "df_before.describe()"
   ]
  },
  {
   "cell_type": "code",
   "execution_count": 34,
   "metadata": {},
   "outputs": [
    {
     "name": "stdout",
     "output_type": "stream",
     "text": [
      "Index(['time', 'district', 'pm10_con', 'pm25_con', 'o3', 'no2', 'co', 'so2',\n",
      "       'pm10_aqi', 'pm25_aqi', 'overall', 'temp', 'feels', 'wind_speed',\n",
      "       'wind_direction', 'gust', 'cloud', 'humidity', 'precipitation',\n",
      "       'pressure', 'loc', 'hour'],\n",
      "      dtype='object')\n"
     ]
    },
    {
     "data": {
      "text/html": [
       "<div>\n",
       "<style scoped>\n",
       "    .dataframe tbody tr th:only-of-type {\n",
       "        vertical-align: middle;\n",
       "    }\n",
       "\n",
       "    .dataframe tbody tr th {\n",
       "        vertical-align: top;\n",
       "    }\n",
       "\n",
       "    .dataframe thead th {\n",
       "        text-align: right;\n",
       "    }\n",
       "</style>\n",
       "<table border=\"1\" class=\"dataframe\">\n",
       "  <thead>\n",
       "    <tr style=\"text-align: right;\">\n",
       "      <th></th>\n",
       "      <th>time</th>\n",
       "      <th>district</th>\n",
       "      <th>pm10_con</th>\n",
       "      <th>pm25_con</th>\n",
       "      <th>o3</th>\n",
       "      <th>no2</th>\n",
       "      <th>co</th>\n",
       "      <th>so2</th>\n",
       "      <th>pm10_aqi</th>\n",
       "      <th>pm25_aqi</th>\n",
       "      <th>...</th>\n",
       "      <th>feels</th>\n",
       "      <th>wind_speed</th>\n",
       "      <th>wind_direction</th>\n",
       "      <th>gust</th>\n",
       "      <th>cloud</th>\n",
       "      <th>humidity</th>\n",
       "      <th>precipitation</th>\n",
       "      <th>pressure</th>\n",
       "      <th>loc</th>\n",
       "      <th>hour</th>\n",
       "    </tr>\n",
       "  </thead>\n",
       "  <tbody>\n",
       "    <tr>\n",
       "      <th>0</th>\n",
       "      <td>2011-12-05 00:00:00</td>\n",
       "      <td>0</td>\n",
       "      <td>15.0</td>\n",
       "      <td>10.0</td>\n",
       "      <td>0.019</td>\n",
       "      <td>0.021</td>\n",
       "      <td>0.3</td>\n",
       "      <td>0.003</td>\n",
       "      <td>14.0</td>\n",
       "      <td>42.0</td>\n",
       "      <td>...</td>\n",
       "      <td>1.0</td>\n",
       "      <td>7.0</td>\n",
       "      <td>NNW</td>\n",
       "      <td>8.0</td>\n",
       "      <td>0.0</td>\n",
       "      <td>58.0</td>\n",
       "      <td>0.0</td>\n",
       "      <td>1029.0</td>\n",
       "      <td>NaN</td>\n",
       "      <td>0</td>\n",
       "    </tr>\n",
       "    <tr>\n",
       "      <th>1</th>\n",
       "      <td>2011-12-05 03:00:00</td>\n",
       "      <td>0</td>\n",
       "      <td>18.0</td>\n",
       "      <td>11.0</td>\n",
       "      <td>0.021</td>\n",
       "      <td>0.014</td>\n",
       "      <td>0.4</td>\n",
       "      <td>0.003</td>\n",
       "      <td>17.0</td>\n",
       "      <td>46.0</td>\n",
       "      <td>...</td>\n",
       "      <td>0.0</td>\n",
       "      <td>6.0</td>\n",
       "      <td>NNW</td>\n",
       "      <td>7.0</td>\n",
       "      <td>0.0</td>\n",
       "      <td>56.0</td>\n",
       "      <td>0.0</td>\n",
       "      <td>1029.0</td>\n",
       "      <td>NaN</td>\n",
       "      <td>3</td>\n",
       "    </tr>\n",
       "    <tr>\n",
       "      <th>2</th>\n",
       "      <td>2011-12-05 06:00:00</td>\n",
       "      <td>0</td>\n",
       "      <td>21.0</td>\n",
       "      <td>13.0</td>\n",
       "      <td>0.012</td>\n",
       "      <td>0.025</td>\n",
       "      <td>0.4</td>\n",
       "      <td>0.003</td>\n",
       "      <td>19.0</td>\n",
       "      <td>53.0</td>\n",
       "      <td>...</td>\n",
       "      <td>0.0</td>\n",
       "      <td>4.0</td>\n",
       "      <td>NNW</td>\n",
       "      <td>5.0</td>\n",
       "      <td>0.0</td>\n",
       "      <td>54.0</td>\n",
       "      <td>0.0</td>\n",
       "      <td>1030.0</td>\n",
       "      <td>NaN</td>\n",
       "      <td>6</td>\n",
       "    </tr>\n",
       "  </tbody>\n",
       "</table>\n",
       "<p>3 rows × 22 columns</p>\n",
       "</div>"
      ],
      "text/plain": [
       "                  time  district  pm10_con  pm25_con     o3    no2   co  \\\n",
       "0  2011-12-05 00:00:00         0      15.0      10.0  0.019  0.021  0.3   \n",
       "1  2011-12-05 03:00:00         0      18.0      11.0  0.021  0.014  0.4   \n",
       "2  2011-12-05 06:00:00         0      21.0      13.0  0.012  0.025  0.4   \n",
       "\n",
       "     so2  pm10_aqi  pm25_aqi  ... feels  wind_speed  wind_direction  gust  \\\n",
       "0  0.003      14.0      42.0  ...   1.0         7.0             NNW   8.0   \n",
       "1  0.003      17.0      46.0  ...   0.0         6.0             NNW   7.0   \n",
       "2  0.003      19.0      53.0  ...   0.0         4.0             NNW   5.0   \n",
       "\n",
       "  cloud  humidity  precipitation  pressure  loc  hour  \n",
       "0   0.0      58.0            0.0    1029.0  NaN     0  \n",
       "1   0.0      56.0            0.0    1029.0  NaN     3  \n",
       "2   0.0      54.0            0.0    1030.0  NaN     6  \n",
       "\n",
       "[3 rows x 22 columns]"
      ]
     },
     "execution_count": 34,
     "metadata": {},
     "output_type": "execute_result"
    }
   ],
   "source": [
    "test = pd.read_csv('testset.csv')\n",
    "print(test.columns)\n",
    "test.head(3)\n"
   ]
  },
  {
   "cell_type": "code",
   "execution_count": 39,
   "metadata": {},
   "outputs": [],
   "source": [
    "use = ['no2', 'co', 'so2', 'pm25_con', 'temp', 'wind_direction', 'cloud', 'precipitation',\n",
    "       'pressure', 'wind_speed', 'gust', 'overall']\n",
    "use_test = test[use]"
   ]
  },
  {
   "cell_type": "code",
   "execution_count": 42,
   "metadata": {},
   "outputs": [
    {
     "data": {
      "text/html": [
       "<div>\n",
       "<style scoped>\n",
       "    .dataframe tbody tr th:only-of-type {\n",
       "        vertical-align: middle;\n",
       "    }\n",
       "\n",
       "    .dataframe tbody tr th {\n",
       "        vertical-align: top;\n",
       "    }\n",
       "\n",
       "    .dataframe thead th {\n",
       "        text-align: right;\n",
       "    }\n",
       "</style>\n",
       "<table border=\"1\" class=\"dataframe\">\n",
       "  <thead>\n",
       "    <tr style=\"text-align: right;\">\n",
       "      <th></th>\n",
       "      <th>no2</th>\n",
       "      <th>co</th>\n",
       "      <th>so2</th>\n",
       "      <th>pm25_con</th>\n",
       "      <th>temp</th>\n",
       "      <th>wind_direction</th>\n",
       "      <th>cloud</th>\n",
       "      <th>precipitation</th>\n",
       "      <th>pressure</th>\n",
       "      <th>wind_speed</th>\n",
       "      <th>gust</th>\n",
       "      <th>overall</th>\n",
       "    </tr>\n",
       "  </thead>\n",
       "  <tbody>\n",
       "    <tr>\n",
       "      <th>0</th>\n",
       "      <td>0.021</td>\n",
       "      <td>0.3</td>\n",
       "      <td>0.003</td>\n",
       "      <td>10.0</td>\n",
       "      <td>4.0</td>\n",
       "      <td>NNW</td>\n",
       "      <td>0.0</td>\n",
       "      <td>0.0</td>\n",
       "      <td>1029.0</td>\n",
       "      <td>7.0</td>\n",
       "      <td>8.0</td>\n",
       "      <td>Clear</td>\n",
       "    </tr>\n",
       "    <tr>\n",
       "      <th>1</th>\n",
       "      <td>0.014</td>\n",
       "      <td>0.4</td>\n",
       "      <td>0.003</td>\n",
       "      <td>11.0</td>\n",
       "      <td>3.0</td>\n",
       "      <td>NNW</td>\n",
       "      <td>0.0</td>\n",
       "      <td>0.0</td>\n",
       "      <td>1029.0</td>\n",
       "      <td>6.0</td>\n",
       "      <td>7.0</td>\n",
       "      <td>Clear</td>\n",
       "    </tr>\n",
       "    <tr>\n",
       "      <th>2</th>\n",
       "      <td>0.025</td>\n",
       "      <td>0.4</td>\n",
       "      <td>0.003</td>\n",
       "      <td>13.0</td>\n",
       "      <td>2.0</td>\n",
       "      <td>NNW</td>\n",
       "      <td>0.0</td>\n",
       "      <td>0.0</td>\n",
       "      <td>1030.0</td>\n",
       "      <td>4.0</td>\n",
       "      <td>5.0</td>\n",
       "      <td>Sunny</td>\n",
       "    </tr>\n",
       "    <tr>\n",
       "      <th>3</th>\n",
       "      <td>0.042</td>\n",
       "      <td>0.7</td>\n",
       "      <td>0.004</td>\n",
       "      <td>16.0</td>\n",
       "      <td>3.0</td>\n",
       "      <td>N</td>\n",
       "      <td>0.0</td>\n",
       "      <td>0.0</td>\n",
       "      <td>1031.0</td>\n",
       "      <td>4.0</td>\n",
       "      <td>5.0</td>\n",
       "      <td>Sunny</td>\n",
       "    </tr>\n",
       "    <tr>\n",
       "      <th>4</th>\n",
       "      <td>0.031</td>\n",
       "      <td>0.5</td>\n",
       "      <td>0.004</td>\n",
       "      <td>15.0</td>\n",
       "      <td>3.0</td>\n",
       "      <td>NNE</td>\n",
       "      <td>6.0</td>\n",
       "      <td>0.0</td>\n",
       "      <td>1031.0</td>\n",
       "      <td>3.0</td>\n",
       "      <td>4.0</td>\n",
       "      <td>Sunny</td>\n",
       "    </tr>\n",
       "  </tbody>\n",
       "</table>\n",
       "</div>"
      ],
      "text/plain": [
       "     no2   co    so2  pm25_con  temp wind_direction  cloud  precipitation  \\\n",
       "0  0.021  0.3  0.003      10.0   4.0            NNW    0.0            0.0   \n",
       "1  0.014  0.4  0.003      11.0   3.0            NNW    0.0            0.0   \n",
       "2  0.025  0.4  0.003      13.0   2.0            NNW    0.0            0.0   \n",
       "3  0.042  0.7  0.004      16.0   3.0              N    0.0            0.0   \n",
       "4  0.031  0.5  0.004      15.0   3.0            NNE    6.0            0.0   \n",
       "\n",
       "   pressure  wind_speed  gust overall  \n",
       "0    1029.0         7.0   8.0   Clear  \n",
       "1    1029.0         6.0   7.0   Clear  \n",
       "2    1030.0         4.0   5.0   Sunny  \n",
       "3    1031.0         4.0   5.0   Sunny  \n",
       "4    1031.0         3.0   4.0   Sunny  "
      ]
     },
     "execution_count": 42,
     "metadata": {},
     "output_type": "execute_result"
    }
   ],
   "source": [
    "use_test"
   ]
  },
  {
   "cell_type": "code",
   "execution_count": 43,
   "metadata": {},
   "outputs": [],
   "source": [
    "with open('testset.csv', 'r') as f:\n",
    "    cols = f.readline()\n",
    "    lines = f.readlines()"
   ]
  },
  {
   "cell_type": "code",
   "execution_count": 52,
   "metadata": {},
   "outputs": [
    {
     "name": "stdout",
     "output_type": "stream",
     "text": [
      "[['0.021', '0.3', '0.003', '10.0', '4.0', 'NNW', '0.0', '0.0', '1029.0', '7.0', '8.0', 'Clear'], ['0.014', '0.4', '0.003', '11.0', '3.0', 'NNW', '0.0', '0.0', '1029.0', '6.0', '7.0', 'Clear'], ['0.025', '0.4', '0.003', '13.0', '2.0', 'NNW', '0.0', '0.0', '1030.0', '4.0', '5.0', 'Sunny'], ['0.042', '0.7', '0.004', '16.0', '3.0', 'N', '0.0', '0.0', '1031.0', '4.0', '5.0', 'Sunny'], ['0.031', '0.5', '0.004', '15.0', '3.0', 'NNE', '6.0', '0.0', '1031.0', '3.0', '4.0', 'Sunny']]\n",
      "12\n"
     ]
    }
   ],
   "source": [
    "import numpy as np\n",
    "dataset = list()\n",
    "for line in lines:\n",
    "    dataset.append(line.strip().split(',')[1:]) # index 제외하고\n",
    "print(dataset)\n",
    "print(len(dataset[0]))"
   ]
  },
  {
   "cell_type": "code",
   "execution_count": 84,
   "metadata": {},
   "outputs": [
    {
     "data": {
      "text/html": [
       "<div>\n",
       "<style scoped>\n",
       "    .dataframe tbody tr th:only-of-type {\n",
       "        vertical-align: middle;\n",
       "    }\n",
       "\n",
       "    .dataframe tbody tr th {\n",
       "        vertical-align: top;\n",
       "    }\n",
       "\n",
       "    .dataframe thead th {\n",
       "        text-align: right;\n",
       "    }\n",
       "</style>\n",
       "<table border=\"1\" class=\"dataframe\">\n",
       "  <thead>\n",
       "    <tr style=\"text-align: right;\">\n",
       "      <th></th>\n",
       "      <th>Unnamed: 0</th>\n",
       "      <th>no2</th>\n",
       "      <th>co</th>\n",
       "      <th>so2</th>\n",
       "      <th>pm25_con</th>\n",
       "      <th>temp</th>\n",
       "      <th>cloud</th>\n",
       "      <th>precipitation</th>\n",
       "      <th>pressure</th>\n",
       "      <th>wind_speed</th>\n",
       "      <th>gust</th>\n",
       "    </tr>\n",
       "  </thead>\n",
       "  <tbody>\n",
       "    <tr>\n",
       "      <th>0</th>\n",
       "      <td>count</td>\n",
       "      <td>29084.000000</td>\n",
       "      <td>29084.000000</td>\n",
       "      <td>29084.000000</td>\n",
       "      <td>29084.000000</td>\n",
       "      <td>29084.000000</td>\n",
       "      <td>29084.000000</td>\n",
       "      <td>29084.000000</td>\n",
       "      <td>29084.000000</td>\n",
       "      <td>29084.000000</td>\n",
       "      <td>29084.000000</td>\n",
       "    </tr>\n",
       "    <tr>\n",
       "      <th>1</th>\n",
       "      <td>mean</td>\n",
       "      <td>0.032434</td>\n",
       "      <td>0.538423</td>\n",
       "      <td>0.005165</td>\n",
       "      <td>24.943268</td>\n",
       "      <td>12.587368</td>\n",
       "      <td>33.306079</td>\n",
       "      <td>0.468110</td>\n",
       "      <td>1016.318663</td>\n",
       "      <td>5.971943</td>\n",
       "      <td>8.502407</td>\n",
       "    </tr>\n",
       "    <tr>\n",
       "      <th>2</th>\n",
       "      <td>std</td>\n",
       "      <td>0.015168</td>\n",
       "      <td>0.240489</td>\n",
       "      <td>0.002012</td>\n",
       "      <td>16.482869</td>\n",
       "      <td>10.928954</td>\n",
       "      <td>34.340039</td>\n",
       "      <td>2.180624</td>\n",
       "      <td>8.056032</td>\n",
       "      <td>4.269604</td>\n",
       "      <td>5.851627</td>\n",
       "    </tr>\n",
       "    <tr>\n",
       "      <th>3</th>\n",
       "      <td>min</td>\n",
       "      <td>0.003000</td>\n",
       "      <td>0.200000</td>\n",
       "      <td>0.002000</td>\n",
       "      <td>2.000000</td>\n",
       "      <td>-22.000000</td>\n",
       "      <td>0.000000</td>\n",
       "      <td>0.000000</td>\n",
       "      <td>980.000000</td>\n",
       "      <td>0.000000</td>\n",
       "      <td>0.000000</td>\n",
       "    </tr>\n",
       "    <tr>\n",
       "      <th>4</th>\n",
       "      <td>25%</td>\n",
       "      <td>0.020000</td>\n",
       "      <td>0.400000</td>\n",
       "      <td>0.004000</td>\n",
       "      <td>14.000000</td>\n",
       "      <td>3.000000</td>\n",
       "      <td>3.000000</td>\n",
       "      <td>0.000000</td>\n",
       "      <td>1010.000000</td>\n",
       "      <td>3.000000</td>\n",
       "      <td>4.000000</td>\n",
       "    </tr>\n",
       "    <tr>\n",
       "      <th>5</th>\n",
       "      <td>50%</td>\n",
       "      <td>0.030000</td>\n",
       "      <td>0.500000</td>\n",
       "      <td>0.005000</td>\n",
       "      <td>21.000000</td>\n",
       "      <td>14.000000</td>\n",
       "      <td>19.000000</td>\n",
       "      <td>0.000000</td>\n",
       "      <td>1017.000000</td>\n",
       "      <td>5.000000</td>\n",
       "      <td>7.000000</td>\n",
       "    </tr>\n",
       "    <tr>\n",
       "      <th>6</th>\n",
       "      <td>75%</td>\n",
       "      <td>0.042000</td>\n",
       "      <td>0.600000</td>\n",
       "      <td>0.006000</td>\n",
       "      <td>32.000000</td>\n",
       "      <td>22.000000</td>\n",
       "      <td>59.000000</td>\n",
       "      <td>0.000000</td>\n",
       "      <td>1023.000000</td>\n",
       "      <td>8.000000</td>\n",
       "      <td>11.000000</td>\n",
       "    </tr>\n",
       "    <tr>\n",
       "      <th>7</th>\n",
       "      <td>max</td>\n",
       "      <td>0.112000</td>\n",
       "      <td>2.600000</td>\n",
       "      <td>0.035000</td>\n",
       "      <td>425.000000</td>\n",
       "      <td>39.000000</td>\n",
       "      <td>100.000000</td>\n",
       "      <td>87.300000</td>\n",
       "      <td>1038.000000</td>\n",
       "      <td>37.000000</td>\n",
       "      <td>51.000000</td>\n",
       "    </tr>\n",
       "  </tbody>\n",
       "</table>\n",
       "</div>"
      ],
      "text/plain": [
       "  Unnamed: 0           no2            co           so2      pm25_con  \\\n",
       "0      count  29084.000000  29084.000000  29084.000000  29084.000000   \n",
       "1       mean      0.032434      0.538423      0.005165     24.943268   \n",
       "2        std      0.015168      0.240489      0.002012     16.482869   \n",
       "3        min      0.003000      0.200000      0.002000      2.000000   \n",
       "4        25%      0.020000      0.400000      0.004000     14.000000   \n",
       "5        50%      0.030000      0.500000      0.005000     21.000000   \n",
       "6        75%      0.042000      0.600000      0.006000     32.000000   \n",
       "7        max      0.112000      2.600000      0.035000    425.000000   \n",
       "\n",
       "           temp         cloud  precipitation      pressure    wind_speed  \\\n",
       "0  29084.000000  29084.000000   29084.000000  29084.000000  29084.000000   \n",
       "1     12.587368     33.306079       0.468110   1016.318663      5.971943   \n",
       "2     10.928954     34.340039       2.180624      8.056032      4.269604   \n",
       "3    -22.000000      0.000000       0.000000    980.000000      0.000000   \n",
       "4      3.000000      3.000000       0.000000   1010.000000      3.000000   \n",
       "5     14.000000     19.000000       0.000000   1017.000000      5.000000   \n",
       "6     22.000000     59.000000       0.000000   1023.000000      8.000000   \n",
       "7     39.000000    100.000000      87.300000   1038.000000     37.000000   \n",
       "\n",
       "           gust  \n",
       "0  29084.000000  \n",
       "1      8.502407  \n",
       "2      5.851627  \n",
       "3      0.000000  \n",
       "4      4.000000  \n",
       "5      7.000000  \n",
       "6     11.000000  \n",
       "7     51.000000  "
      ]
     },
     "execution_count": 84,
     "metadata": {},
     "output_type": "execute_result"
    }
   ],
   "source": [
    "# 변수 분포, non-categorical 만 표준정규화 적용 해주면 됨\n",
    "dist = pd.read_csv('distribution.csv')\n",
    "dist"
   ]
  },
  {
   "cell_type": "code",
   "execution_count": 85,
   "metadata": {},
   "outputs": [],
   "source": [
    "dist[non_categorical].iloc[1:3].to_csv('non_categorical_distribute.csv', index=False)"
   ]
  },
  {
   "cell_type": "code",
   "execution_count": 86,
   "metadata": {},
   "outputs": [
    {
     "data": {
      "text/html": [
       "<div>\n",
       "<style scoped>\n",
       "    .dataframe tbody tr th:only-of-type {\n",
       "        vertical-align: middle;\n",
       "    }\n",
       "\n",
       "    .dataframe tbody tr th {\n",
       "        vertical-align: top;\n",
       "    }\n",
       "\n",
       "    .dataframe thead th {\n",
       "        text-align: right;\n",
       "    }\n",
       "</style>\n",
       "<table border=\"1\" class=\"dataframe\">\n",
       "  <thead>\n",
       "    <tr style=\"text-align: right;\">\n",
       "      <th></th>\n",
       "      <th>no2</th>\n",
       "      <th>co</th>\n",
       "      <th>so2</th>\n",
       "      <th>pm25_con</th>\n",
       "      <th>temp</th>\n",
       "      <th>cloud</th>\n",
       "      <th>precipitation</th>\n",
       "      <th>pressure</th>\n",
       "      <th>wind_speed</th>\n",
       "      <th>gust</th>\n",
       "    </tr>\n",
       "  </thead>\n",
       "  <tbody>\n",
       "    <tr>\n",
       "      <th>0</th>\n",
       "      <td>0.032434</td>\n",
       "      <td>0.538423</td>\n",
       "      <td>0.005165</td>\n",
       "      <td>24.943268</td>\n",
       "      <td>12.587368</td>\n",
       "      <td>33.306079</td>\n",
       "      <td>0.468110</td>\n",
       "      <td>1016.318663</td>\n",
       "      <td>5.971943</td>\n",
       "      <td>8.502407</td>\n",
       "    </tr>\n",
       "    <tr>\n",
       "      <th>1</th>\n",
       "      <td>0.015168</td>\n",
       "      <td>0.240489</td>\n",
       "      <td>0.002012</td>\n",
       "      <td>16.482869</td>\n",
       "      <td>10.928954</td>\n",
       "      <td>34.340039</td>\n",
       "      <td>2.180624</td>\n",
       "      <td>8.056032</td>\n",
       "      <td>4.269604</td>\n",
       "      <td>5.851627</td>\n",
       "    </tr>\n",
       "  </tbody>\n",
       "</table>\n",
       "</div>"
      ],
      "text/plain": [
       "        no2        co       so2   pm25_con       temp      cloud  \\\n",
       "0  0.032434  0.538423  0.005165  24.943268  12.587368  33.306079   \n",
       "1  0.015168  0.240489  0.002012  16.482869  10.928954  34.340039   \n",
       "\n",
       "   precipitation     pressure  wind_speed      gust  \n",
       "0       0.468110  1016.318663    5.971943  8.502407  \n",
       "1       2.180624     8.056032    4.269604  5.851627  "
      ]
     },
     "execution_count": 86,
     "metadata": {},
     "output_type": "execute_result"
    }
   ],
   "source": [
    "# 5, 11번 빼고 dict에 평균과 표준편차를 담기\n",
    "dist = pd.read_csv('non_categorical_distribute.csv')\n",
    "dist"
   ]
  },
  {
   "cell_type": "code",
   "execution_count": 73,
   "metadata": {},
   "outputs": [],
   "source": [
    "non_categorical = ['no2', 'co', 'so2', 'pm25_con', 'temp', 'cloud', 'precipitation', 'pressure', 'wind_speed', 'gust']\n",
    "categorical = ['wind_direction', 'overall_int']"
   ]
  },
  {
   "cell_type": "code",
   "execution_count": null,
   "metadata": {},
   "outputs": [],
   "source": [
    "# 3번은 category_pm을 적용\n",
    "# 5번은 wind_direction적용\n",
    "# 11번은 overall 인코딩\n"
   ]
  },
  {
   "cell_type": "code",
   "execution_count": 71,
   "metadata": {},
   "outputs": [],
   "source": [
    "import pandas as pd\n",
    "# use_feature = ['no2', 'co', 'so2', 'pm25_con', 'temp', 'wind_direction', 'cloud', 'precipitation',\n",
    "#                'pressure', 'wind_speed', 'gust', 'overall_int', 'target(pm25_cat)']\n",
    "\n",
    "\n",
    "def data_input(file: str, form: str='csv', header: bool=True):\n",
    "    with open(file, 'r') as f:\n",
    "        if header: cols = f.readline()\n",
    "        lines = f.readlines()\n",
    "    dataset = [line.strip().split(',')[1:] for line in lines]\n",
    "    new_set = list()\n",
    "    for sample in dataset:\n",
    "        sample.append(cat_pm25(float(sample[3])))\n",
    "        sample[5] = encode_wind(cat_wind(sample[5]))\n",
    "        sample[11] = cat_overall(sample[11])\n",
    "        new_set.append(list(map(float, sample)))\n",
    "\n",
    "    return new_set"
   ]
  },
  {
   "cell_type": "code",
   "execution_count": 72,
   "metadata": {},
   "outputs": [
    {
     "name": "stdout",
     "output_type": "stream",
     "text": [
      "[[0.021, 0.3, 0.003, 10.0, 4.0, 3.0, 0.0, 0.0, 1029.0, 7.0, 8.0, 0.0, 0.0], [0.014, 0.4, 0.003, 11.0, 3.0, 3.0, 0.0, 0.0, 1029.0, 6.0, 7.0, 0.0, 0.0], [0.025, 0.4, 0.003, 13.0, 2.0, 3.0, 0.0, 0.0, 1030.0, 4.0, 5.0, 0.0, 0.0], [0.042, 0.7, 0.004, 16.0, 3.0, 3.0, 0.0, 0.0, 1031.0, 4.0, 5.0, 0.0, 1.0], [0.031, 0.5, 0.004, 15.0, 3.0, 3.0, 6.0, 0.0, 1031.0, 3.0, 4.0, 0.0, 1.0]]\n"
     ]
    }
   ],
   "source": [
    "t = data_input('testset.csv')\n",
    "print(t)"
   ]
  },
  {
   "cell_type": "code",
   "execution_count": 22,
   "metadata": {},
   "outputs": [],
   "source": [
    "def cat_pm25(val):\n",
    "    if val < 15:\n",
    "        return 0\n",
    "    elif 15 <= val < 35:\n",
    "        return 1\n",
    "    elif 36 <= val < 75:\n",
    "        return 2\n",
    "    else:\n",
    "        return 3"
   ]
  },
  {
   "cell_type": "code",
   "execution_count": 28,
   "metadata": {},
   "outputs": [],
   "source": [
    "# 바람 변환\n",
    "wind_map = {'NW': 'W', 'WSW': 'W', 'WNW': 'W', 'W': 'W', 'SW': 'W', 'SSW': 'S', 'E': 'E', 'ENE': 'E',\n",
    "           'ESE': 'E', 'NNW': 'N', 'SE': 'E', 'S': 'S', 'SSE': 'S', 'NE': 'E', 'NNE': 'N', 'N': 'N'}\n",
    "\n",
    "def cat_wind(val):\n",
    "    return wind_map[val]\n",
    "\n",
    "wind_map_int = {'W': 0, 'E': 1, 'S': 2, 'N': 3}\n",
    "def encode_wind(val):\n",
    "    return wind_map_int[val]\n",
    "\n",
    "# 날씨 변환\n",
    "rain = set(['drizzle', 'rain', 'snow', 'sleet'])\n",
    "def cat_overall(val):\n",
    "    if set(val.lower().split()) & rain:\n",
    "        return 1\n",
    "    else:\n",
    "        return 0"
   ]
  },
  {
   "cell_type": "code",
   "execution_count": null,
   "metadata": {},
   "outputs": [],
   "source": []
  }
 ],
 "metadata": {
  "kernelspec": {
   "display_name": "Python 3",
   "language": "python",
   "name": "python3"
  },
  "language_info": {
   "codemirror_mode": {
    "name": "ipython",
    "version": 3
   },
   "file_extension": ".py",
   "mimetype": "text/x-python",
   "name": "python",
   "nbconvert_exporter": "python",
   "pygments_lexer": "ipython3",
   "version": "3.8.5"
  },
  "latex_envs": {
   "LaTeX_envs_menu_present": true,
   "autoclose": false,
   "autocomplete": true,
   "bibliofile": "biblio.bib",
   "cite_by": "apalike",
   "current_citInitial": 1,
   "eqLabelWithNumbers": true,
   "eqNumInitial": 1,
   "hotkeys": {
    "equation": "Ctrl-E",
    "itemize": "Ctrl-I"
   },
   "labels_anchors": false,
   "latex_user_defs": false,
   "report_style_numbering": false,
   "user_envs_cfg": false
  },
  "toc": {
   "base_numbering": 1,
   "nav_menu": {},
   "number_sections": true,
   "sideBar": true,
   "skip_h1_title": false,
   "title_cell": "Table of Contents",
   "title_sidebar": "Contents",
   "toc_cell": false,
   "toc_position": {},
   "toc_section_display": true,
   "toc_window_display": false
  }
 },
 "nbformat": 4,
 "nbformat_minor": 4
}